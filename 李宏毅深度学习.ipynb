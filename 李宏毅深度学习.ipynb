{
 "cells": [
  {
   "cell_type": "markdown",
   "metadata": {},
   "source": [
    "# 李宏毅机器学习\n",
    "\n",
    "#### 1、机器学习简介\n",
    "#### 2、回归\n",
    "#### 3、误差从哪里来\n",
    "#### 4、梯度下降\n",
    "#### 5、分类\n",
    "#### 6、逻辑回归\n",
    "#### 7、深度学习\n",
    "#### 8、反向传播\n",
    "#### 9、深度学习的“hello world”\n",
    "#### 10、keras\n",
    "#### 11、DNN 深度神经网络\n",
    "#### 12、kera Demo\n",
    "#### 13、Tensorflow\n",
    "#### 14、卷积神经网络\n",
    "#### 15、为什么需要深度\n",
    "#### 16、半监督式学习\n",
    "#### 17、无监督学习——线性方法\n",
    "\n"
   ]
  }
 ],
 "metadata": {
  "kernelspec": {
   "display_name": "Python 3",
   "language": "python",
   "name": "python3"
  },
  "language_info": {
   "codemirror_mode": {
    "name": "ipython",
    "version": 3
   },
   "file_extension": ".py",
   "mimetype": "text/x-python",
   "name": "python",
   "nbconvert_exporter": "python",
   "pygments_lexer": "ipython3",
   "version": "3.7.1"
  }
 },
 "nbformat": 4,
 "nbformat_minor": 2
}
