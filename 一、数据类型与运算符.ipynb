{
 "cells": [
  {
   "cell_type": "markdown",
   "metadata": {},
   "source": [
    "# Python 入门"
   ]
  },
  {
   "cell_type": "markdown",
   "metadata": {},
   "source": [
    "# 一、数据类型和运算符\n",
    "\n",
    "数据类型：整型、浮点型、布尔型、字符串、列表、元祖、集合、字典\n",
    "运算符：算术、赋值、比较、逻辑、成员、恒等运算符\n",
    "内置函数、符合数据结构、类型转换\n",
    "空格和样式指南"
   ]
  },
  {
   "cell_type": "raw",
   "metadata": {},
   "source": [
    "算术运算\n",
    "\n",
    "加  减   乘  除  \n",
    "\n",
    "取模  %  相除后的余数\n",
    "取幂  **  \n",
    "//    相除后向下取整到最接近的整数"
   ]
  },
  {
   "cell_type": "code",
   "execution_count": 5,
   "metadata": {},
   "outputs": [
    {
     "name": "stdout",
     "output_type": "stream",
     "text": [
      "加法  3 + 2\n",
      "5\n",
      "\n",
      "减法  5 - 2\n",
      "3\n",
      "\n",
      "乘法   9 * 9\n",
      "81\n",
      "\n",
      "除法   9/4\n",
      "2.25\n"
     ]
    }
   ],
   "source": [
    "# 加法\n",
    "print(\"加法  3 + 2\")\n",
    "print(3+2)\n",
    "print()\n",
    "\n",
    "#减法 \n",
    "print(\"减法  5 - 2\")\n",
    "print(5-2)\n",
    "\n",
    "#乘法\n",
    "print()\n",
    "print(\"乘法   9 * 9\")\n",
    "print(9 * 9)\n",
    "\n",
    "#除法\n",
    "print()\n",
    "print(\"除法   9/4\")\n",
    "print(9 / 4)"
   ]
  },
  {
   "cell_type": "code",
   "execution_count": 7,
   "metadata": {},
   "outputs": [
    {
     "name": "stdout",
     "output_type": "stream",
     "text": [
      "\n",
      "取模：相处后的余数  9 % 4\n",
      "1\n",
      "\n",
      "取幂： 5 ** 3\n",
      "125\n",
      "\n",
      "相处后向下取整到最接近的整数\n",
      "2 // 3\n",
      "0\n",
      "\n",
      "-2 // 3\n",
      "-1\n",
      "\n",
      "5 // 3\n",
      "1\n",
      "\n",
      "-5 // 3\n",
      "-2\n"
     ]
    }
   ],
   "source": [
    "#取模\n",
    "print()\n",
    "print(\"取模：相处后的余数  9 % 4\")\n",
    "print(9 % 4)\n",
    "\n",
    "#取幂\n",
    "print()\n",
    "print(\"取幂： 5 ** 3\")\n",
    "print(5 ** 3)\n",
    "\n",
    "#//  相除后向下取整到最接近的整数\n",
    "print()\n",
    "print(\"相处后向下取整到最接近的整数\")\n",
    "print(\"2 // 3\")\n",
    "print(2 // 3)\n",
    "\n",
    "print()\n",
    "print(\"-2 // 3\")\n",
    "print(-2 // 3)\n",
    "\n",
    "print()\n",
    "print(\"5 // 3\")\n",
    "print(5 // 3)\n",
    "\n",
    "print()\n",
    "print(\"-5 // 3\")\n",
    "print(-5 // 3)"
   ]
  },
  {
   "cell_type": "markdown",
   "metadata": {},
   "source": [
    "# 二、变量和赋值运算符"
   ]
  },
  {
   "cell_type": "code",
   "execution_count": 8,
   "metadata": {},
   "outputs": [
    {
     "name": "stdout",
     "output_type": "stream",
     "text": [
      "74728\n"
     ]
    }
   ],
   "source": [
    "# 创建一个变量  mv_population\n",
    "mv_population = 74728\n",
    "\n",
    "# mv_population 是变量， 负责存储 74728的值， \n",
    "# =  是赋值运算符，将右侧的值赋值给左侧的名称\n",
    "\n",
    "print(mv_population)"
   ]
  },
  {
   "cell_type": "code",
   "execution_count": 9,
   "metadata": {},
   "outputs": [
    {
     "name": "stdout",
     "output_type": "stream",
     "text": [
      "2\n"
     ]
    }
   ],
   "source": [
    "x = 2\n",
    "y = x\n",
    "print(y)"
   ]
  },
  {
   "cell_type": "code",
   "execution_count": 12,
   "metadata": {},
   "outputs": [
    {
     "name": "stdout",
     "output_type": "stream",
     "text": [
      "1\n",
      "2\n",
      "3\n"
     ]
    }
   ],
   "source": [
    "x = 3\n",
    "y = 4\n",
    "z = 5\n",
    "\n",
    "#可以用如下方式替代：\n",
    "x, y, z = 1, 2, 3\n",
    "print(x)\n",
    "print(y)\n",
    "print(z)"
   ]
  },
  {
   "cell_type": "raw",
   "metadata": {},
   "source": [
    "变量命名规则：\n",
    "1. 只能在变量名称中使用常规字母、数字和下划线。不能包含空格，并且需要以字母或下划线开头。\n",
    "\n",
    "2. 不能使用保留字或内置标识符\n",
    "3. 在 python 中，变量名称的命名方式是全部使用小写字母，并用下划线区分单词。\n",
    "\n",
    "正确：\n",
    "my_height = 58\n",
    "my_lat = 40\n",
    "my_long = 105\n",
    "\n",
    "错误：\n",
    "my height = 58\n",
    "MYLONG = 40\n",
    "MyLat = 105"
   ]
  },
  {
   "cell_type": "raw",
   "metadata": {},
   "source": [
    "赋值运算符\n",
    "x = 2 \n",
    "x += 2     x = x + 2\n",
    "x -= 2     x = x - 2\n",
    "x *= 2     x = x * 2\n",
    "x /= 2     x = x / 2"
   ]
  },
  {
   "cell_type": "code",
   "execution_count": 16,
   "metadata": {},
   "outputs": [
    {
     "name": "stdout",
     "output_type": "stream",
     "text": [
      "20\n",
      "18\n",
      "36\n",
      "12.0\n"
     ]
    }
   ],
   "source": [
    "x = 18\n",
    "\n",
    "x += 2\n",
    "print(x)\n",
    "\n",
    "x -= 2\n",
    "print(x)\n",
    "\n",
    "x *= 2\n",
    "print(x)\n",
    "\n",
    "x /= 3\n",
    "print(x)\n"
   ]
  },
  {
   "cell_type": "code",
   "execution_count": null,
   "metadata": {},
   "outputs": [],
   "source": [
    "三、整数和浮点数\n"
   ]
  }
 ],
 "metadata": {
  "kernelspec": {
   "display_name": "Python 3",
   "language": "python",
   "name": "python3"
  },
  "language_info": {
   "codemirror_mode": {
    "name": "ipython",
    "version": 3
   },
   "file_extension": ".py",
   "mimetype": "text/x-python",
   "name": "python",
   "nbconvert_exporter": "python",
   "pygments_lexer": "ipython3",
   "version": "3.7.1"
  }
 },
 "nbformat": 4,
 "nbformat_minor": 2
}
